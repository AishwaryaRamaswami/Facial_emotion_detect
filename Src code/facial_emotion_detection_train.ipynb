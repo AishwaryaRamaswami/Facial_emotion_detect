{
  "nbformat": 4,
  "nbformat_minor": 0,
  "metadata": {
    "colab": {
      "name": "facial emotion detection train.ipynb",
      "provenance": [],
      "collapsed_sections": []
    },
    "kernelspec": {
      "name": "python3",
      "display_name": "Python 3"
    },
    "accelerator": "GPU"
  },
  "cells": [
    {
      "cell_type": "code",
      "metadata": {
        "id": "rkkkC0uIXGSX",
        "colab_type": "code",
        "colab": {
          "resources": {
            "http://localhost:8080/nbextensions/google.colab/files.js": {
              "data": "Ly8gQ29weXJpZ2h0IDIwMTcgR29vZ2xlIExMQwovLwovLyBMaWNlbnNlZCB1bmRlciB0aGUgQXBhY2hlIExpY2Vuc2UsIFZlcnNpb24gMi4wICh0aGUgIkxpY2Vuc2UiKTsKLy8geW91IG1heSBub3QgdXNlIHRoaXMgZmlsZSBleGNlcHQgaW4gY29tcGxpYW5jZSB3aXRoIHRoZSBMaWNlbnNlLgovLyBZb3UgbWF5IG9idGFpbiBhIGNvcHkgb2YgdGhlIExpY2Vuc2UgYXQKLy8KLy8gICAgICBodHRwOi8vd3d3LmFwYWNoZS5vcmcvbGljZW5zZXMvTElDRU5TRS0yLjAKLy8KLy8gVW5sZXNzIHJlcXVpcmVkIGJ5IGFwcGxpY2FibGUgbGF3IG9yIGFncmVlZCB0byBpbiB3cml0aW5nLCBzb2Z0d2FyZQovLyBkaXN0cmlidXRlZCB1bmRlciB0aGUgTGljZW5zZSBpcyBkaXN0cmlidXRlZCBvbiBhbiAiQVMgSVMiIEJBU0lTLAovLyBXSVRIT1VUIFdBUlJBTlRJRVMgT1IgQ09ORElUSU9OUyBPRiBBTlkgS0lORCwgZWl0aGVyIGV4cHJlc3Mgb3IgaW1wbGllZC4KLy8gU2VlIHRoZSBMaWNlbnNlIGZvciB0aGUgc3BlY2lmaWMgbGFuZ3VhZ2UgZ292ZXJuaW5nIHBlcm1pc3Npb25zIGFuZAovLyBsaW1pdGF0aW9ucyB1bmRlciB0aGUgTGljZW5zZS4KCi8qKgogKiBAZmlsZW92ZXJ2aWV3IEhlbHBlcnMgZm9yIGdvb2dsZS5jb2xhYiBQeXRob24gbW9kdWxlLgogKi8KKGZ1bmN0aW9uKHNjb3BlKSB7CmZ1bmN0aW9uIHNwYW4odGV4dCwgc3R5bGVBdHRyaWJ1dGVzID0ge30pIHsKICBjb25zdCBlbGVtZW50ID0gZG9jdW1lbnQuY3JlYXRlRWxlbWVudCgnc3BhbicpOwogIGVsZW1lbnQudGV4dENvbnRlbnQgPSB0ZXh0OwogIGZvciAoY29uc3Qga2V5IG9mIE9iamVjdC5rZXlzKHN0eWxlQXR0cmlidXRlcykpIHsKICAgIGVsZW1lbnQuc3R5bGVba2V5XSA9IHN0eWxlQXR0cmlidXRlc1trZXldOwogIH0KICByZXR1cm4gZWxlbWVudDsKfQoKLy8gTWF4IG51bWJlciBvZiBieXRlcyB3aGljaCB3aWxsIGJlIHVwbG9hZGVkIGF0IGEgdGltZS4KY29uc3QgTUFYX1BBWUxPQURfU0laRSA9IDEwMCAqIDEwMjQ7CgpmdW5jdGlvbiBfdXBsb2FkRmlsZXMoaW5wdXRJZCwgb3V0cHV0SWQpIHsKICBjb25zdCBzdGVwcyA9IHVwbG9hZEZpbGVzU3RlcChpbnB1dElkLCBvdXRwdXRJZCk7CiAgY29uc3Qgb3V0cHV0RWxlbWVudCA9IGRvY3VtZW50LmdldEVsZW1lbnRCeUlkKG91dHB1dElkKTsKICAvLyBDYWNoZSBzdGVwcyBvbiB0aGUgb3V0cHV0RWxlbWVudCB0byBtYWtlIGl0IGF2YWlsYWJsZSBmb3IgdGhlIG5leHQgY2FsbAogIC8vIHRvIHVwbG9hZEZpbGVzQ29udGludWUgZnJvbSBQeXRob24uCiAgb3V0cHV0RWxlbWVudC5zdGVwcyA9IHN0ZXBzOwoKICByZXR1cm4gX3VwbG9hZEZpbGVzQ29udGludWUob3V0cHV0SWQpOwp9CgovLyBUaGlzIGlzIHJvdWdobHkgYW4gYXN5bmMgZ2VuZXJhdG9yIChub3Qgc3VwcG9ydGVkIGluIHRoZSBicm93c2VyIHlldCksCi8vIHdoZXJlIHRoZXJlIGFyZSBtdWx0aXBsZSBhc3luY2hyb25vdXMgc3RlcHMgYW5kIHRoZSBQeXRob24gc2lkZSBpcyBnb2luZwovLyB0byBwb2xsIGZvciBjb21wbGV0aW9uIG9mIGVhY2ggc3RlcC4KLy8gVGhpcyB1c2VzIGEgUHJvbWlzZSB0byBibG9jayB0aGUgcHl0aG9uIHNpZGUgb24gY29tcGxldGlvbiBvZiBlYWNoIHN0ZXAsCi8vIHRoZW4gcGFzc2VzIHRoZSByZXN1bHQgb2YgdGhlIHByZXZpb3VzIHN0ZXAgYXMgdGhlIGlucHV0IHRvIHRoZSBuZXh0IHN0ZXAuCmZ1bmN0aW9uIF91cGxvYWRGaWxlc0NvbnRpbnVlKG91dHB1dElkKSB7CiAgY29uc3Qgb3V0cHV0RWxlbWVudCA9IGRvY3VtZW50LmdldEVsZW1lbnRCeUlkKG91dHB1dElkKTsKICBjb25zdCBzdGVwcyA9IG91dHB1dEVsZW1lbnQuc3RlcHM7CgogIGNvbnN0IG5leHQgPSBzdGVwcy5uZXh0KG91dHB1dEVsZW1lbnQubGFzdFByb21pc2VWYWx1ZSk7CiAgcmV0dXJuIFByb21pc2UucmVzb2x2ZShuZXh0LnZhbHVlLnByb21pc2UpLnRoZW4oKHZhbHVlKSA9PiB7CiAgICAvLyBDYWNoZSB0aGUgbGFzdCBwcm9taXNlIHZhbHVlIHRvIG1ha2UgaXQgYXZhaWxhYmxlIHRvIHRoZSBuZXh0CiAgICAvLyBzdGVwIG9mIHRoZSBnZW5lcmF0b3IuCiAgICBvdXRwdXRFbGVtZW50Lmxhc3RQcm9taXNlVmFsdWUgPSB2YWx1ZTsKICAgIHJldHVybiBuZXh0LnZhbHVlLnJlc3BvbnNlOwogIH0pOwp9CgovKioKICogR2VuZXJhdG9yIGZ1bmN0aW9uIHdoaWNoIGlzIGNhbGxlZCBiZXR3ZWVuIGVhY2ggYXN5bmMgc3RlcCBvZiB0aGUgdXBsb2FkCiAqIHByb2Nlc3MuCiAqIEBwYXJhbSB7c3RyaW5nfSBpbnB1dElkIEVsZW1lbnQgSUQgb2YgdGhlIGlucHV0IGZpbGUgcGlja2VyIGVsZW1lbnQuCiAqIEBwYXJhbSB7c3RyaW5nfSBvdXRwdXRJZCBFbGVtZW50IElEIG9mIHRoZSBvdXRwdXQgZGlzcGxheS4KICogQHJldHVybiB7IUl0ZXJhYmxlPCFPYmplY3Q+fSBJdGVyYWJsZSBvZiBuZXh0IHN0ZXBzLgogKi8KZnVuY3Rpb24qIHVwbG9hZEZpbGVzU3RlcChpbnB1dElkLCBvdXRwdXRJZCkgewogIGNvbnN0IGlucHV0RWxlbWVudCA9IGRvY3VtZW50LmdldEVsZW1lbnRCeUlkKGlucHV0SWQpOwogIGlucHV0RWxlbWVudC5kaXNhYmxlZCA9IGZhbHNlOwoKICBjb25zdCBvdXRwdXRFbGVtZW50ID0gZG9jdW1lbnQuZ2V0RWxlbWVudEJ5SWQob3V0cHV0SWQpOwogIG91dHB1dEVsZW1lbnQuaW5uZXJIVE1MID0gJyc7CgogIGNvbnN0IHBpY2tlZFByb21pc2UgPSBuZXcgUHJvbWlzZSgocmVzb2x2ZSkgPT4gewogICAgaW5wdXRFbGVtZW50LmFkZEV2ZW50TGlzdGVuZXIoJ2NoYW5nZScsIChlKSA9PiB7CiAgICAgIHJlc29sdmUoZS50YXJnZXQuZmlsZXMpOwogICAgfSk7CiAgfSk7CgogIGNvbnN0IGNhbmNlbCA9IGRvY3VtZW50LmNyZWF0ZUVsZW1lbnQoJ2J1dHRvbicpOwogIGlucHV0RWxlbWVudC5wYXJlbnRFbGVtZW50LmFwcGVuZENoaWxkKGNhbmNlbCk7CiAgY2FuY2VsLnRleHRDb250ZW50ID0gJ0NhbmNlbCB1cGxvYWQnOwogIGNvbnN0IGNhbmNlbFByb21pc2UgPSBuZXcgUHJvbWlzZSgocmVzb2x2ZSkgPT4gewogICAgY2FuY2VsLm9uY2xpY2sgPSAoKSA9PiB7CiAgICAgIHJlc29sdmUobnVsbCk7CiAgICB9OwogIH0pOwoKICAvLyBXYWl0IGZvciB0aGUgdXNlciB0byBwaWNrIHRoZSBmaWxlcy4KICBjb25zdCBmaWxlcyA9IHlpZWxkIHsKICAgIHByb21pc2U6IFByb21pc2UucmFjZShbcGlja2VkUHJvbWlzZSwgY2FuY2VsUHJvbWlzZV0pLAogICAgcmVzcG9uc2U6IHsKICAgICAgYWN0aW9uOiAnc3RhcnRpbmcnLAogICAgfQogIH07CgogIGNhbmNlbC5yZW1vdmUoKTsKCiAgLy8gRGlzYWJsZSB0aGUgaW5wdXQgZWxlbWVudCBzaW5jZSBmdXJ0aGVyIHBpY2tzIGFyZSBub3QgYWxsb3dlZC4KICBpbnB1dEVsZW1lbnQuZGlzYWJsZWQgPSB0cnVlOwoKICBpZiAoIWZpbGVzKSB7CiAgICByZXR1cm4gewogICAgICByZXNwb25zZTogewogICAgICAgIGFjdGlvbjogJ2NvbXBsZXRlJywKICAgICAgfQogICAgfTsKICB9CgogIGZvciAoY29uc3QgZmlsZSBvZiBmaWxlcykgewogICAgY29uc3QgbGkgPSBkb2N1bWVudC5jcmVhdGVFbGVtZW50KCdsaScpOwogICAgbGkuYXBwZW5kKHNwYW4oZmlsZS5uYW1lLCB7Zm9udFdlaWdodDogJ2JvbGQnfSkpOwogICAgbGkuYXBwZW5kKHNwYW4oCiAgICAgICAgYCgke2ZpbGUudHlwZSB8fCAnbi9hJ30pIC0gJHtmaWxlLnNpemV9IGJ5dGVzLCBgICsKICAgICAgICBgbGFzdCBtb2RpZmllZDogJHsKICAgICAgICAgICAgZmlsZS5sYXN0TW9kaWZpZWREYXRlID8gZmlsZS5sYXN0TW9kaWZpZWREYXRlLnRvTG9jYWxlRGF0ZVN0cmluZygpIDoKICAgICAgICAgICAgICAgICAgICAgICAgICAgICAgICAgICAgJ24vYSd9IC0gYCkpOwogICAgY29uc3QgcGVyY2VudCA9IHNwYW4oJzAlIGRvbmUnKTsKICAgIGxpLmFwcGVuZENoaWxkKHBlcmNlbnQpOwoKICAgIG91dHB1dEVsZW1lbnQuYXBwZW5kQ2hpbGQobGkpOwoKICAgIGNvbnN0IGZpbGVEYXRhUHJvbWlzZSA9IG5ldyBQcm9taXNlKChyZXNvbHZlKSA9PiB7CiAgICAgIGNvbnN0IHJlYWRlciA9IG5ldyBGaWxlUmVhZGVyKCk7CiAgICAgIHJlYWRlci5vbmxvYWQgPSAoZSkgPT4gewogICAgICAgIHJlc29sdmUoZS50YXJnZXQucmVzdWx0KTsKICAgICAgfTsKICAgICAgcmVhZGVyLnJlYWRBc0FycmF5QnVmZmVyKGZpbGUpOwogICAgfSk7CiAgICAvLyBXYWl0IGZvciB0aGUgZGF0YSB0byBiZSByZWFkeS4KICAgIGxldCBmaWxlRGF0YSA9IHlpZWxkIHsKICAgICAgcHJvbWlzZTogZmlsZURhdGFQcm9taXNlLAogICAgICByZXNwb25zZTogewogICAgICAgIGFjdGlvbjogJ2NvbnRpbnVlJywKICAgICAgfQogICAgfTsKCiAgICAvLyBVc2UgYSBjaHVua2VkIHNlbmRpbmcgdG8gYXZvaWQgbWVzc2FnZSBzaXplIGxpbWl0cy4gU2VlIGIvNjIxMTU2NjAuCiAgICBsZXQgcG9zaXRpb24gPSAwOwogICAgd2hpbGUgKHBvc2l0aW9uIDwgZmlsZURhdGEuYnl0ZUxlbmd0aCkgewogICAgICBjb25zdCBsZW5ndGggPSBNYXRoLm1pbihmaWxlRGF0YS5ieXRlTGVuZ3RoIC0gcG9zaXRpb24sIE1BWF9QQVlMT0FEX1NJWkUpOwogICAgICBjb25zdCBjaHVuayA9IG5ldyBVaW50OEFycmF5KGZpbGVEYXRhLCBwb3NpdGlvbiwgbGVuZ3RoKTsKICAgICAgcG9zaXRpb24gKz0gbGVuZ3RoOwoKICAgICAgY29uc3QgYmFzZTY0ID0gYnRvYShTdHJpbmcuZnJvbUNoYXJDb2RlLmFwcGx5KG51bGwsIGNodW5rKSk7CiAgICAgIHlpZWxkIHsKICAgICAgICByZXNwb25zZTogewogICAgICAgICAgYWN0aW9uOiAnYXBwZW5kJywKICAgICAgICAgIGZpbGU6IGZpbGUubmFtZSwKICAgICAgICAgIGRhdGE6IGJhc2U2NCwKICAgICAgICB9LAogICAgICB9OwogICAgICBwZXJjZW50LnRleHRDb250ZW50ID0KICAgICAgICAgIGAke01hdGgucm91bmQoKHBvc2l0aW9uIC8gZmlsZURhdGEuYnl0ZUxlbmd0aCkgKiAxMDApfSUgZG9uZWA7CiAgICB9CiAgfQoKICAvLyBBbGwgZG9uZS4KICB5aWVsZCB7CiAgICByZXNwb25zZTogewogICAgICBhY3Rpb246ICdjb21wbGV0ZScsCiAgICB9CiAgfTsKfQoKc2NvcGUuZ29vZ2xlID0gc2NvcGUuZ29vZ2xlIHx8IHt9OwpzY29wZS5nb29nbGUuY29sYWIgPSBzY29wZS5nb29nbGUuY29sYWIgfHwge307CnNjb3BlLmdvb2dsZS5jb2xhYi5fZmlsZXMgPSB7CiAgX3VwbG9hZEZpbGVzLAogIF91cGxvYWRGaWxlc0NvbnRpbnVlLAp9Owp9KShzZWxmKTsK",
              "ok": true,
              "headers": [
                [
                  "content-type",
                  "application/javascript"
                ]
              ],
              "status": 200,
              "status_text": ""
            }
          },
          "base_uri": "https://localhost:8080/",
          "height": 73
        },
        "outputId": "2b171130-6bff-47d3-f51f-b779cd7655ea"
      },
      "source": [
        "from google.colab import files\n",
        "uploaded = files.upload()"
      ],
      "execution_count": 1,
      "outputs": [
        {
          "output_type": "display_data",
          "data": {
            "text/html": [
              "\n",
              "     <input type=\"file\" id=\"files-1dd49a69-04d6-4c46-b46e-a89cc8428b80\" name=\"files[]\" multiple disabled\n",
              "        style=\"border:none\" />\n",
              "     <output id=\"result-1dd49a69-04d6-4c46-b46e-a89cc8428b80\">\n",
              "      Upload widget is only available when the cell has been executed in the\n",
              "      current browser session. Please rerun this cell to enable.\n",
              "      </output>\n",
              "      <script src=\"/nbextensions/google.colab/files.js\"></script> "
            ],
            "text/plain": [
              "<IPython.core.display.HTML object>"
            ]
          },
          "metadata": {
            "tags": []
          }
        },
        {
          "output_type": "stream",
          "text": [
            "Saving fer2013.csv to fer2013.csv\n"
          ],
          "name": "stdout"
        }
      ]
    },
    {
      "cell_type": "code",
      "metadata": {
        "id": "NjH-aMxnsbMr",
        "colab_type": "code",
        "colab": {}
      },
      "source": [
        "import numpy as np\n",
        "import pandas as pd \n",
        "from PIL import Image\n",
        "from tqdm import tqdm\n",
        "import os"
      ],
      "execution_count": 2,
      "outputs": []
    },
    {
      "cell_type": "code",
      "metadata": {
        "id": "rqb2hRr0ssPU",
        "colab_type": "code",
        "colab": {}
      },
      "source": [
        "outer_names = ['test','train']\n",
        "inner_names = ['angry', 'disgusted', 'fearful', 'happy', 'sad', 'surprised', 'neutral']\n",
        "os.makedirs('data', exist_ok=True)\n",
        "for outer_name in outer_names:\n",
        "    os.makedirs(os.path.join('data',outer_name), exist_ok=True)\n",
        "    for inner_name in inner_names:\n",
        "        os.makedirs(os.path.join('data',outer_name,inner_name), exist_ok=True)\n"
      ],
      "execution_count": 3,
      "outputs": []
    },
    {
      "cell_type": "code",
      "metadata": {
        "id": "PeCOjdlrs14Z",
        "colab_type": "code",
        "colab": {
          "base_uri": "https://localhost:8080/",
          "height": 34
        },
        "outputId": "4974e782-f3b1-4dc3-cc3c-286cf402be7a"
      },
      "source": [
        "angry = 0\n",
        "disgusted = 0\n",
        "fearful = 0\n",
        "happy = 0\n",
        "sad = 0\n",
        "surprised = 0\n",
        "neutral = 0\n",
        "angry_test = 0\n",
        "disgusted_test = 0\n",
        "fearful_test = 0\n",
        "happy_test = 0\n",
        "sad_test = 0\n",
        "surprised_test = 0\n",
        "neutral_test = 0\n",
        "\n",
        "df = pd.read_csv('/content/fer2013.csv')\n",
        "mat = np.zeros((48,48),dtype=np.uint8)\n",
        "print(\"Saving images...\")"
      ],
      "execution_count": 4,
      "outputs": [
        {
          "output_type": "stream",
          "text": [
            "Saving images...\n"
          ],
          "name": "stdout"
        }
      ]
    },
    {
      "cell_type": "code",
      "metadata": {
        "id": "DFMQ4bmrs6yy",
        "colab_type": "code",
        "colab": {}
      },
      "source": [
        "def atoi(s):\n",
        "    n = 0\n",
        "    for i in s:\n",
        "        n = n*10 + ord(i) - ord(\"0\")\n",
        "    return n"
      ],
      "execution_count": 5,
      "outputs": []
    },
    {
      "cell_type": "code",
      "metadata": {
        "id": "YfrnJmPrtE2g",
        "colab_type": "code",
        "colab": {
          "base_uri": "https://localhost:8080/",
          "height": 50
        },
        "outputId": "d1e4bc3d-6a97-4add-ec46-5a572caaf604"
      },
      "source": [
        "for i in tqdm(range(len(df))):\n",
        "    txt = df['pixels'][i]\n",
        "    words = txt.split()\n",
        "    \n",
        "    for j in range(2304):\n",
        "        xind = j // 48\n",
        "        yind = j % 48\n",
        "        mat[xind][yind] = atoi(words[j])\n",
        "\n",
        "    img = Image.fromarray(mat)\n",
        "\n",
        "    # train\n",
        "    if i < 28709:\n",
        "        if df['emotion'][i] == 0:\n",
        "            img.save('/content/data/train/angry/im'+str(angry)+'.png')\n",
        "            angry += 1\n",
        "        elif df['emotion'][i] == 1:\n",
        "            img.save('/content/data/train/disgusted/im'+str(disgusted)+'.png')\n",
        "            disgusted += 1\n",
        "        elif df['emotion'][i] == 2:\n",
        "            img.save('/content/data/train/fearful/im'+str(fearful)+'.png')\n",
        "            fearful += 1\n",
        "        elif df['emotion'][i] == 3:\n",
        "            img.save('/content/data/train/happy/im'+str(happy)+'.png')\n",
        "            happy += 1\n",
        "        elif df['emotion'][i] == 4:\n",
        "            img.save('/content/data/train/sad/im'+str(sad)+'.png')\n",
        "            sad += 1\n",
        "        elif df['emotion'][i] == 5:\n",
        "            img.save('/content/data/train/surprised/im'+str(surprised)+'.png')\n",
        "            surprised += 1\n",
        "        elif df['emotion'][i] == 6:\n",
        "            img.save('/content/data/train/neutral/im'+str(neutral)+'.png')\n",
        "            neutral += 1\n",
        "\n",
        "    # test\n",
        "    else:\n",
        "        if df['emotion'][i] == 0:\n",
        "            img.save('/content/data/test/angry/im'+str(angry_test)+'.png')\n",
        "            angry_test += 1\n",
        "        elif df['emotion'][i] == 1:\n",
        "            img.save('/content/data/test/disgusted/im'+str(disgusted_test)+'.png')\n",
        "            disgusted_test += 1\n",
        "        elif df['emotion'][i] == 2:\n",
        "            img.save('/content/data/test/fearful/im'+str(fearful_test)+'.png')\n",
        "            fearful_test += 1\n",
        "        elif df['emotion'][i] == 3:\n",
        "            img.save('/content/data/test/happy/im'+str(happy_test)+'.png')\n",
        "            happy_test += 1\n",
        "        elif df['emotion'][i] == 4:\n",
        "            img.save('/content/data/test/sad/im'+str(sad_test)+'.png')\n",
        "            sad_test += 1\n",
        "        elif df['emotion'][i] == 5:\n",
        "            img.save('/content/data/test/surprised/im'+str(surprised_test)+'.png')\n",
        "            surprised_test += 1\n",
        "        elif df['emotion'][i] == 6:\n",
        "            img.save('/content/data/test/neutral/im'+str(neutral_test)+'.png')\n",
        "            neutral_test += 1\n",
        "\n",
        "print(\"Done!\")"
      ],
      "execution_count": 8,
      "outputs": [
        {
          "output_type": "stream",
          "text": [
            "100%|██████████| 35887/35887 [01:39<00:00, 360.14it/s]"
          ],
          "name": "stderr"
        },
        {
          "output_type": "stream",
          "text": [
            "Done!\n"
          ],
          "name": "stdout"
        },
        {
          "output_type": "stream",
          "text": [
            "\n"
          ],
          "name": "stderr"
        }
      ]
    },
    {
      "cell_type": "code",
      "metadata": {
        "id": "WettVMNNuJQm",
        "colab_type": "code",
        "colab": {}
      },
      "source": [
        "import numpy as np\n",
        "import matplotlib.pyplot as plt\n",
        "import cv2\n",
        "from tensorflow.keras.models import Sequential\n",
        "from tensorflow.keras.layers import Dense, Dropout, Flatten\n",
        "from tensorflow.keras.layers import Conv2D\n",
        "from tensorflow.keras.optimizers import Adam\n",
        "from tensorflow.keras.layers import MaxPooling2D,ZeroPadding2D\n",
        "from tensorflow.keras.preprocessing.image import ImageDataGenerator\n",
        "import os"
      ],
      "execution_count": 47,
      "outputs": []
    },
    {
      "cell_type": "code",
      "metadata": {
        "id": "Fh0pQh_kuisx",
        "colab_type": "code",
        "colab": {}
      },
      "source": [
        "def plot_model(model_history):\n",
        "    fig, axs = plt.subplots(1,2,figsize=(15,5))\n",
        "    axs[0].plot(range(1,len(model_history.history['accuracy'])+1),model_history.history['accuracy'])\n",
        "    axs[0].plot(range(1,len(model_history.history['val_accuracy'])+1),model_history.history['val_accuracy'])\n",
        "    axs[0].set_title('Model Accuracy')\n",
        "    axs[0].set_ylabel('Accuracy')\n",
        "    axs[0].set_xlabel('Epoch')\n",
        "    axs[0].set_xticks(np.arange(1,len(model_history.history['accuracy'])+1),len(model_history.history['accuracy'])/10)\n",
        "    axs[0].legend(['train', 'val'], loc='best')\n",
        "    axs[1].plot(range(1,len(model_history.history['loss'])+1),model_history.history['loss'])\n",
        "    axs[1].plot(range(1,len(model_history.history['val_loss'])+1),model_history.history['val_loss'])\n",
        "    axs[1].set_title('Model Loss')\n",
        "    axs[1].set_ylabel('Loss')\n",
        "    axs[1].set_xlabel('Epoch')\n",
        "    axs[1].set_xticks(np.arange(1,len(model_history.history['loss'])+1),len(model_history.history['loss'])/10)\n",
        "    axs[1].legend(['train', 'val'], loc='best')\n",
        "    fig.savefig('plot.png')\n",
        "    plt.show()"
      ],
      "execution_count": 66,
      "outputs": []
    },
    {
      "cell_type": "code",
      "metadata": {
        "id": "rf3qw6CJu2dR",
        "colab_type": "code",
        "colab": {}
      },
      "source": [
        "train_dir = '/content/data/train'\n",
        "val_dir = '/content/data/test'\n",
        "\n",
        "num_train = 28709\n",
        "num_val = 7178\n",
        "batch_size = 64"
      ],
      "execution_count": 23,
      "outputs": []
    },
    {
      "cell_type": "code",
      "metadata": {
        "id": "LuLNWOsAu-5O",
        "colab_type": "code",
        "colab": {
          "base_uri": "https://localhost:8080/",
          "height": 50
        },
        "outputId": "f7655a4f-0c04-4ac6-d8f2-70bf9a4c1ca6"
      },
      "source": [
        "train_datagen = ImageDataGenerator(rescale=1./255)\n",
        "val_datagen = ImageDataGenerator(rescale=1./255)\n",
        "\n",
        "train_generator = train_datagen.flow_from_directory(\n",
        "        train_dir,\n",
        "        target_size=(48,48),\n",
        "        batch_size=batch_size,\n",
        "        color_mode=\"grayscale\",\n",
        "        class_mode='categorical')\n",
        "\n",
        "validation_generator = val_datagen.flow_from_directory(\n",
        "        val_dir,\n",
        "        target_size=(48,48),\n",
        "        batch_size=batch_size,\n",
        "        color_mode=\"grayscale\",\n",
        "        class_mode='categorical')"
      ],
      "execution_count": 24,
      "outputs": [
        {
          "output_type": "stream",
          "text": [
            "Found 28711 images belonging to 7 classes.\n",
            "Found 7178 images belonging to 7 classes.\n"
          ],
          "name": "stdout"
        }
      ]
    },
    {
      "cell_type": "code",
      "metadata": {
        "id": "Hl_gzdG3vNrw",
        "colab_type": "code",
        "colab": {
          "base_uri": "https://localhost:8080/",
          "height": 34
        },
        "outputId": "ed4faea0-9037-4d7a-c74a-a1bd8fec8c2d"
      },
      "source": [
        "model = Sequential()\n",
        "\n",
        "model.add(Conv2D(32, kernel_size=(3, 3), activation='relu', input_shape=(48,48,1)))\n",
        "model.add(Conv2D(64, kernel_size=(3, 3), activation='relu'))\n",
        "model.add(MaxPooling2D(pool_size=(2, 2)))\n",
        "model.add(Dropout(0.25))\n",
        "\n",
        "model.add(Conv2D(128, kernel_size=(3, 3), activation='relu'))\n",
        "model.add(MaxPooling2D(pool_size=(2, 2)))\n",
        "model.add(Conv2D(128, kernel_size=(3, 3), activation='relu'))\n",
        "model.add(MaxPooling2D(pool_size=(2, 2)))\n",
        "model.add(Dropout(0.25))\n",
        "\n",
        "model.add(Flatten())\n",
        "model.add(Dense(1024, activation='relu'))\n",
        "model.add(Dropout(0.5))\n",
        "model.add(Dense(512, activation='relu'))\n",
        "model.add(Dropout(0.5))\n",
        "model.add(Dense(7, activation='softmax'))\n",
        "\n",
        "    \n",
        "print (\"Create model successfully\")"
      ],
      "execution_count": 69,
      "outputs": [
        {
          "output_type": "stream",
          "text": [
            "Create model successfully\n"
          ],
          "name": "stdout"
        }
      ]
    },
    {
      "cell_type": "code",
      "metadata": {
        "id": "Ox3d_9GIvS_l",
        "colab_type": "code",
        "colab": {
          "base_uri": "https://localhost:8080/",
          "height": 1000
        },
        "outputId": "ec8df63c-a5fb-4715-cd06-65a040187f41"
      },
      "source": [
        "model.compile(loss='categorical_crossentropy',optimizer=Adam(lr=0.0001, decay=1e-6),metrics=['accuracy'])\n",
        "model_info = model.fit_generator(train_generator,steps_per_epoch=num_train // batch_size,epochs=60,validation_data=validation_generator,validation_steps=num_val // batch_size)\n",
        "plot_model(model_info)\n",
        "model.save_weights('model.h5')"
      ],
      "execution_count": 70,
      "outputs": [
        {
          "output_type": "stream",
          "text": [
            "Epoch 1/60\n",
            "448/448 [==============================] - 17s 37ms/step - loss: 1.8327 - accuracy: 0.2430 - val_loss: 1.8269 - val_accuracy: 0.2472\n",
            "Epoch 2/60\n",
            "448/448 [==============================] - 17s 38ms/step - loss: 1.7494 - accuracy: 0.2895 - val_loss: 1.6254 - val_accuracy: 0.3730\n",
            "Epoch 3/60\n",
            "448/448 [==============================] - 17s 37ms/step - loss: 1.5951 - accuracy: 0.3778 - val_loss: 1.5294 - val_accuracy: 0.4096\n",
            "Epoch 4/60\n",
            "448/448 [==============================] - 17s 37ms/step - loss: 1.5115 - accuracy: 0.4141 - val_loss: 1.4441 - val_accuracy: 0.4441\n",
            "Epoch 5/60\n",
            "448/448 [==============================] - 16s 37ms/step - loss: 1.4389 - accuracy: 0.4466 - val_loss: 1.4047 - val_accuracy: 0.4622\n",
            "Epoch 6/60\n",
            "448/448 [==============================] - 16s 37ms/step - loss: 1.3772 - accuracy: 0.4724 - val_loss: 1.3182 - val_accuracy: 0.4990\n",
            "Epoch 7/60\n",
            "448/448 [==============================] - 16s 37ms/step - loss: 1.3299 - accuracy: 0.4929 - val_loss: 1.2766 - val_accuracy: 0.5120\n",
            "Epoch 8/60\n",
            "448/448 [==============================] - 16s 36ms/step - loss: 1.2863 - accuracy: 0.5087 - val_loss: 1.2371 - val_accuracy: 0.5282\n",
            "Epoch 9/60\n",
            "448/448 [==============================] - 16s 36ms/step - loss: 1.2470 - accuracy: 0.5250 - val_loss: 1.2112 - val_accuracy: 0.5353\n",
            "Epoch 10/60\n",
            "448/448 [==============================] - 16s 37ms/step - loss: 1.2109 - accuracy: 0.5403 - val_loss: 1.2106 - val_accuracy: 0.5353\n",
            "Epoch 11/60\n",
            "448/448 [==============================] - 16s 37ms/step - loss: 1.1861 - accuracy: 0.5539 - val_loss: 1.1766 - val_accuracy: 0.5479\n",
            "Epoch 12/60\n",
            "448/448 [==============================] - 16s 37ms/step - loss: 1.1568 - accuracy: 0.5626 - val_loss: 1.1670 - val_accuracy: 0.5506\n",
            "Epoch 13/60\n",
            "448/448 [==============================] - 16s 36ms/step - loss: 1.1247 - accuracy: 0.5750 - val_loss: 1.1357 - val_accuracy: 0.5668\n",
            "Epoch 14/60\n",
            "448/448 [==============================] - 16s 37ms/step - loss: 1.0968 - accuracy: 0.5883 - val_loss: 1.1430 - val_accuracy: 0.5618\n",
            "Epoch 15/60\n",
            "448/448 [==============================] - 16s 37ms/step - loss: 1.0777 - accuracy: 0.5938 - val_loss: 1.1137 - val_accuracy: 0.5714\n",
            "Epoch 16/60\n",
            "448/448 [==============================] - 16s 37ms/step - loss: 1.0490 - accuracy: 0.6062 - val_loss: 1.1072 - val_accuracy: 0.5812\n",
            "Epoch 17/60\n",
            "448/448 [==============================] - 16s 36ms/step - loss: 1.0275 - accuracy: 0.6164 - val_loss: 1.0940 - val_accuracy: 0.5868\n",
            "Epoch 18/60\n",
            "448/448 [==============================] - 16s 37ms/step - loss: 0.9990 - accuracy: 0.6263 - val_loss: 1.0805 - val_accuracy: 0.5939\n",
            "Epoch 19/60\n",
            "448/448 [==============================] - 16s 37ms/step - loss: 0.9780 - accuracy: 0.6384 - val_loss: 1.0792 - val_accuracy: 0.5914\n",
            "Epoch 20/60\n",
            "448/448 [==============================] - 16s 37ms/step - loss: 0.9521 - accuracy: 0.6442 - val_loss: 1.0806 - val_accuracy: 0.5922\n",
            "Epoch 21/60\n",
            "448/448 [==============================] - 16s 37ms/step - loss: 0.9301 - accuracy: 0.6531 - val_loss: 1.0690 - val_accuracy: 0.6011\n",
            "Epoch 22/60\n",
            "448/448 [==============================] - 16s 37ms/step - loss: 0.9105 - accuracy: 0.6600 - val_loss: 1.0695 - val_accuracy: 0.6021\n",
            "Epoch 23/60\n",
            "448/448 [==============================] - 16s 37ms/step - loss: 0.8788 - accuracy: 0.6749 - val_loss: 1.0702 - val_accuracy: 0.6006\n",
            "Epoch 24/60\n",
            "448/448 [==============================] - 16s 37ms/step - loss: 0.8521 - accuracy: 0.6841 - val_loss: 1.0786 - val_accuracy: 0.6013\n",
            "Epoch 25/60\n",
            "448/448 [==============================] - 16s 37ms/step - loss: 0.8306 - accuracy: 0.6918 - val_loss: 1.0717 - val_accuracy: 0.6045\n",
            "Epoch 26/60\n",
            "448/448 [==============================] - 16s 37ms/step - loss: 0.8072 - accuracy: 0.7014 - val_loss: 1.0638 - val_accuracy: 0.6106\n",
            "Epoch 27/60\n",
            "448/448 [==============================] - 16s 37ms/step - loss: 0.7767 - accuracy: 0.7145 - val_loss: 1.0646 - val_accuracy: 0.6099\n",
            "Epoch 28/60\n",
            "448/448 [==============================] - 16s 37ms/step - loss: 0.7604 - accuracy: 0.7179 - val_loss: 1.0703 - val_accuracy: 0.6110\n",
            "Epoch 29/60\n",
            "448/448 [==============================] - 16s 37ms/step - loss: 0.7315 - accuracy: 0.7316 - val_loss: 1.0735 - val_accuracy: 0.6129\n",
            "Epoch 30/60\n",
            "448/448 [==============================] - 16s 37ms/step - loss: 0.7088 - accuracy: 0.7418 - val_loss: 1.0666 - val_accuracy: 0.6187\n",
            "Epoch 31/60\n",
            "448/448 [==============================] - 16s 37ms/step - loss: 0.6886 - accuracy: 0.7488 - val_loss: 1.0684 - val_accuracy: 0.6210\n",
            "Epoch 32/60\n",
            "448/448 [==============================] - 16s 36ms/step - loss: 0.6620 - accuracy: 0.7572 - val_loss: 1.0820 - val_accuracy: 0.6201\n",
            "Epoch 33/60\n",
            "448/448 [==============================] - 16s 36ms/step - loss: 0.6379 - accuracy: 0.7669 - val_loss: 1.0881 - val_accuracy: 0.6140\n",
            "Epoch 34/60\n",
            "448/448 [==============================] - 16s 37ms/step - loss: 0.6139 - accuracy: 0.7760 - val_loss: 1.0942 - val_accuracy: 0.6170\n",
            "Epoch 35/60\n",
            "448/448 [==============================] - 16s 36ms/step - loss: 0.5971 - accuracy: 0.7826 - val_loss: 1.1013 - val_accuracy: 0.6218\n",
            "Epoch 36/60\n",
            "448/448 [==============================] - 16s 36ms/step - loss: 0.5767 - accuracy: 0.7896 - val_loss: 1.1103 - val_accuracy: 0.6180\n",
            "Epoch 37/60\n",
            "448/448 [==============================] - 16s 36ms/step - loss: 0.5537 - accuracy: 0.7981 - val_loss: 1.1075 - val_accuracy: 0.6176\n",
            "Epoch 38/60\n",
            "448/448 [==============================] - 16s 37ms/step - loss: 0.5337 - accuracy: 0.8062 - val_loss: 1.1255 - val_accuracy: 0.6180\n",
            "Epoch 39/60\n",
            "448/448 [==============================] - 16s 36ms/step - loss: 0.5162 - accuracy: 0.8107 - val_loss: 1.1236 - val_accuracy: 0.6217\n",
            "Epoch 40/60\n",
            "448/448 [==============================] - 16s 36ms/step - loss: 0.4947 - accuracy: 0.8212 - val_loss: 1.1436 - val_accuracy: 0.6253\n",
            "Epoch 41/60\n",
            "448/448 [==============================] - 16s 37ms/step - loss: 0.4862 - accuracy: 0.8257 - val_loss: 1.1507 - val_accuracy: 0.6257\n",
            "Epoch 42/60\n",
            "448/448 [==============================] - 16s 36ms/step - loss: 0.4688 - accuracy: 0.8308 - val_loss: 1.1413 - val_accuracy: 0.6267\n",
            "Epoch 43/60\n",
            "448/448 [==============================] - 16s 37ms/step - loss: 0.4507 - accuracy: 0.8383 - val_loss: 1.1415 - val_accuracy: 0.6247\n",
            "Epoch 44/60\n",
            "448/448 [==============================] - 17s 37ms/step - loss: 0.4360 - accuracy: 0.8437 - val_loss: 1.1618 - val_accuracy: 0.6299\n",
            "Epoch 45/60\n",
            "448/448 [==============================] - 16s 36ms/step - loss: 0.4257 - accuracy: 0.8445 - val_loss: 1.1799 - val_accuracy: 0.6261\n",
            "Epoch 46/60\n",
            "448/448 [==============================] - 16s 36ms/step - loss: 0.4049 - accuracy: 0.8546 - val_loss: 1.1935 - val_accuracy: 0.6304\n",
            "Epoch 47/60\n",
            "448/448 [==============================] - 16s 36ms/step - loss: 0.3970 - accuracy: 0.8571 - val_loss: 1.1822 - val_accuracy: 0.6271\n",
            "Epoch 48/60\n",
            "448/448 [==============================] - 16s 36ms/step - loss: 0.3809 - accuracy: 0.8640 - val_loss: 1.2078 - val_accuracy: 0.6324\n",
            "Epoch 49/60\n",
            "448/448 [==============================] - 16s 36ms/step - loss: 0.3709 - accuracy: 0.8672 - val_loss: 1.2172 - val_accuracy: 0.6311\n",
            "Epoch 50/60\n",
            "448/448 [==============================] - 16s 36ms/step - loss: 0.3641 - accuracy: 0.8690 - val_loss: 1.2186 - val_accuracy: 0.6289\n",
            "Epoch 51/60\n",
            "448/448 [==============================] - 16s 36ms/step - loss: 0.3516 - accuracy: 0.8721 - val_loss: 1.2221 - val_accuracy: 0.6304\n",
            "Epoch 52/60\n",
            "448/448 [==============================] - 16s 36ms/step - loss: 0.3429 - accuracy: 0.8766 - val_loss: 1.2407 - val_accuracy: 0.6256\n",
            "Epoch 53/60\n",
            "448/448 [==============================] - 16s 36ms/step - loss: 0.3318 - accuracy: 0.8818 - val_loss: 1.2398 - val_accuracy: 0.6286\n",
            "Epoch 54/60\n",
            "448/448 [==============================] - 16s 36ms/step - loss: 0.3104 - accuracy: 0.8863 - val_loss: 1.2642 - val_accuracy: 0.6264\n",
            "Epoch 55/60\n",
            "448/448 [==============================] - 16s 36ms/step - loss: 0.3123 - accuracy: 0.8882 - val_loss: 1.2500 - val_accuracy: 0.6304\n",
            "Epoch 56/60\n",
            "448/448 [==============================] - 16s 36ms/step - loss: 0.3072 - accuracy: 0.8905 - val_loss: 1.2556 - val_accuracy: 0.6232\n",
            "Epoch 57/60\n",
            "448/448 [==============================] - 16s 36ms/step - loss: 0.2932 - accuracy: 0.8965 - val_loss: 1.2905 - val_accuracy: 0.6309\n",
            "Epoch 58/60\n",
            "448/448 [==============================] - 16s 36ms/step - loss: 0.2893 - accuracy: 0.8955 - val_loss: 1.3076 - val_accuracy: 0.6282\n",
            "Epoch 59/60\n",
            "448/448 [==============================] - 16s 36ms/step - loss: 0.2848 - accuracy: 0.8999 - val_loss: 1.3057 - val_accuracy: 0.6283\n",
            "Epoch 60/60\n",
            "448/448 [==============================] - 16s 36ms/step - loss: 0.2714 - accuracy: 0.9024 - val_loss: 1.3047 - val_accuracy: 0.6303\n"
          ],
          "name": "stdout"
        },
        {
          "output_type": "stream",
          "text": [
            "/usr/local/lib/python3.6/dist-packages/ipykernel_launcher.py:8: MatplotlibDeprecationWarning: Passing the minor parameter of set_xticks() positionally is deprecated since Matplotlib 3.2; the parameter will become keyword-only two minor releases later.\n",
            "  \n",
            "/usr/local/lib/python3.6/dist-packages/ipykernel_launcher.py:15: MatplotlibDeprecationWarning: Passing the minor parameter of set_xticks() positionally is deprecated since Matplotlib 3.2; the parameter will become keyword-only two minor releases later.\n",
            "  from ipykernel import kernelapp as app\n"
          ],
          "name": "stderr"
        },
        {
          "output_type": "display_data",
          "data": {
            "image/png": "[encoded data removed]",
            "text/plain": [
              "<Figure size 1080x360 with 2 Axes>"
            ]
          },
          "metadata": {
            "tags": [],
            "needs_background": "light"
          }
        }
      ]
    }
  ]
}